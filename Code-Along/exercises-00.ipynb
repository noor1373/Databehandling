
import pandas as pd

data = {
    "Kommun":["Malmö", "Stockholm", "Uppsala", "Göteborg"],
    "Population":[347949, 975551, 233839, 583056]
}

df = pd.DataFrame(data)

print(df["Kommun"])

# Select the row which contains Göteborg
goteborg_row = df[df["Kommun"] == "Göteborg"]

print(goteborg_row)

# Sorted by population (largest -> smallest)
sorted_df = df.sort_values(by="Population", ascending=False)

print(sorted_df)

# Three largest cities
cities_top3 = sorted_df.iloc[:3]

print(cities_top3)

df = pd.DataFrame(data)
df = df.sort_values(by="Population", ascending=False)

total_population = 10379295

df["Population (%)"] = ((df["Population"] / total_population) * 100).round(2)

print(df)
