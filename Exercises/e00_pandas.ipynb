{
 "cells": [
  {
   "cell_type": "code",
   "execution_count": null,
   "id": "26293a45",
   "metadata": {},
   "outputs": [],
   "source": [
    "import pandas as pd\n",
    "\n",
    "# Cities in Sweden - create dataset\n",
    "# a) Use a DataFrame to print out all the cities\n",
    "\n",
    "data = {\n",
    "    \"Kommun\":[\"Malmö\", \"Stockholm\", \"Uppsala\", \"Göteborg\"],\n",
    "    \"Population\": [347949, 975551, 233839, 583056]\n",
    "}\n",
    "\n",
    "df = pd.DataFrame(data)\n",
    "\n",
    "df\n"
   ]
  }
 ],
 "metadata": {
  "kernelspec": {
   "display_name": ".venv (3.13.7)",
   "language": "python",
   "name": "python3"
  },
  "language_info": {
   "codemirror_mode": {
    "name": "ipython",
    "version": 3
   },
   "file_extension": ".py",
   "mimetype": "text/x-python",
   "name": "python",
   "nbconvert_exporter": "python",
   "pygments_lexer": "ipython3",
   "version": "3.13.7"
  }
 },
 "nbformat": 4,
 "nbformat_minor": 5
}
